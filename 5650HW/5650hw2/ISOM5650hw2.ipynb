{
  "cells": [
    {
      "cell_type": "markdown",
      "id": "bc0f1ac8",
      "metadata": {
        "id": "bc0f1ac8"
      },
      "source": [
        "<header style=\" text-align: center; color:blue; font-size:45px\">Order Imbalance Based Strategy</header>"
      ]
    },
    {
      "cell_type": "markdown",
      "id": "73651a73",
      "metadata": {
        "id": "73651a73"
      },
      "source": [
        "<h1 style=\"color:purple\">Author</h1>\n",
        "\n",
        "  \n",
        "- Name:   LUO Yiling                   \n",
        "- Student ID:   20881826\n"
      ]
    },
    {
      "cell_type": "markdown",
      "id": "e67d1c96",
      "metadata": {
        "id": "e67d1c96"
      },
      "source": [
        "## Introduction"
      ]
    },
    {
      "cell_type": "markdown",
      "id": "280667b6",
      "metadata": {
        "id": "280667b6"
      },
      "source": [
        "Many studies have been conducted to describe the relationship between the trade activity(volume) and the price change. Ask (Sell) and Bid (Buy) orders on the order book might signal the direction of market movement. To  model the possible pattern between the order imbalance (between ask and bid sides) and price change, we will build new predictors and check the performance of multiple linear regression in paper trading (backtesting with historical data). \n",
        "\n"
      ]
    },
    {
      "cell_type": "markdown",
      "id": "b8160f69",
      "metadata": {
        "id": "b8160f69"
      },
      "source": [
        "## Data"
      ]
    },
    {
      "cell_type": "markdown",
      "id": "42d5fe6c",
      "metadata": {
        "id": "42d5fe6c"
      },
      "source": [
        "Totally we have 10 days' data"
      ]
    },
    {
      "cell_type": "code",
      "execution_count": 65,
      "id": "567276ed",
      "metadata": {
        "id": "567276ed"
      },
      "outputs": [],
      "source": [
        "import pandas as pd\n",
        "import numpy as np\n",
        "import os, math, pathlib\n",
        "import statsmodels.formula.api as smf\n",
        "from sklearn.metrics import mean_squared_error\n",
        "import statsmodels.api as sm\n",
        "from os import listdir\n",
        "from multiprocessing import Process\n",
        "import warnings\n",
        "warnings.filterwarnings('ignore')"
      ]
    },
    {
      "cell_type": "markdown",
      "id": "a6444573-b4c8-40c3-a9f9-746c5cd5618e",
      "metadata": {
        "id": "a6444573-b4c8-40c3-a9f9-746c5cd5618e"
      },
      "source": [
        "First we read the train and test data"
      ]
    },
    {
      "cell_type": "code",
      "source": [
        "url_train = 'https://drive.google.com/file/d/1z7Kz_cNK0_E4SIGuZvve_ALjlYUYdJBL/view?usp=share_link'\n",
        "url_train = 'https://drive.google.com/uc?export=download&id='+url_train.split('/')[-2]"
      ],
      "metadata": {
        "id": "nSno5eRoKsgQ"
      },
      "id": "nSno5eRoKsgQ",
      "execution_count": 66,
      "outputs": []
    },
    {
      "cell_type": "code",
      "source": [
        "url_test= 'https://drive.google.com/file/d/1z7HRZUI1H-2HUqwZbr-Mk63ecBxxgh1O/view?usp=share_link'\n",
        "url_test = 'https://drive.google.com/uc?export=download&id='+url_test.split('/')[-2]"
      ],
      "metadata": {
        "id": "rBKFr7q7K5Gn"
      },
      "id": "rBKFr7q7K5Gn",
      "execution_count": 67,
      "outputs": []
    },
    {
      "cell_type": "code",
      "execution_count": 68,
      "id": "4a7a9f44",
      "metadata": {
        "colab": {
          "base_uri": "https://localhost:8080/",
          "height": 206
        },
        "id": "4a7a9f44",
        "outputId": "d7bb6762-06e3-4b71-85c3-9d53e2ef2b3e"
      },
      "outputs": [
        {
          "output_type": "execute_result",
          "data": {
            "text/plain": [
              "                         AskPrice  BidPrice  AskVolume  BidVolume\n",
              "2020-12-21 09:00:00.500    4445.0    4419.0      467.0       87.0\n",
              "2020-12-21 09:00:01.000    4445.0    4444.0       88.0       67.0\n",
              "2020-12-21 09:00:01.500    4433.0    4420.0        6.0      462.0\n",
              "2020-12-21 09:00:02.000    4430.0    4428.0       40.0        9.0\n",
              "2020-12-21 09:00:02.500    4427.0    4426.0        1.0       81.0"
            ],
            "text/html": [
              "\n",
              "  <div id=\"df-c57f6ce9-2124-4242-8473-83467ab7158a\">\n",
              "    <div class=\"colab-df-container\">\n",
              "      <div>\n",
              "<style scoped>\n",
              "    .dataframe tbody tr th:only-of-type {\n",
              "        vertical-align: middle;\n",
              "    }\n",
              "\n",
              "    .dataframe tbody tr th {\n",
              "        vertical-align: top;\n",
              "    }\n",
              "\n",
              "    .dataframe thead th {\n",
              "        text-align: right;\n",
              "    }\n",
              "</style>\n",
              "<table border=\"1\" class=\"dataframe\">\n",
              "  <thead>\n",
              "    <tr style=\"text-align: right;\">\n",
              "      <th></th>\n",
              "      <th>AskPrice</th>\n",
              "      <th>BidPrice</th>\n",
              "      <th>AskVolume</th>\n",
              "      <th>BidVolume</th>\n",
              "    </tr>\n",
              "  </thead>\n",
              "  <tbody>\n",
              "    <tr>\n",
              "      <th>2020-12-21 09:00:00.500</th>\n",
              "      <td>4445.0</td>\n",
              "      <td>4419.0</td>\n",
              "      <td>467.0</td>\n",
              "      <td>87.0</td>\n",
              "    </tr>\n",
              "    <tr>\n",
              "      <th>2020-12-21 09:00:01.000</th>\n",
              "      <td>4445.0</td>\n",
              "      <td>4444.0</td>\n",
              "      <td>88.0</td>\n",
              "      <td>67.0</td>\n",
              "    </tr>\n",
              "    <tr>\n",
              "      <th>2020-12-21 09:00:01.500</th>\n",
              "      <td>4433.0</td>\n",
              "      <td>4420.0</td>\n",
              "      <td>6.0</td>\n",
              "      <td>462.0</td>\n",
              "    </tr>\n",
              "    <tr>\n",
              "      <th>2020-12-21 09:00:02.000</th>\n",
              "      <td>4430.0</td>\n",
              "      <td>4428.0</td>\n",
              "      <td>40.0</td>\n",
              "      <td>9.0</td>\n",
              "    </tr>\n",
              "    <tr>\n",
              "      <th>2020-12-21 09:00:02.500</th>\n",
              "      <td>4427.0</td>\n",
              "      <td>4426.0</td>\n",
              "      <td>1.0</td>\n",
              "      <td>81.0</td>\n",
              "    </tr>\n",
              "  </tbody>\n",
              "</table>\n",
              "</div>\n",
              "      <button class=\"colab-df-convert\" onclick=\"convertToInteractive('df-c57f6ce9-2124-4242-8473-83467ab7158a')\"\n",
              "              title=\"Convert this dataframe to an interactive table.\"\n",
              "              style=\"display:none;\">\n",
              "        \n",
              "  <svg xmlns=\"http://www.w3.org/2000/svg\" height=\"24px\"viewBox=\"0 0 24 24\"\n",
              "       width=\"24px\">\n",
              "    <path d=\"M0 0h24v24H0V0z\" fill=\"none\"/>\n",
              "    <path d=\"M18.56 5.44l.94 2.06.94-2.06 2.06-.94-2.06-.94-.94-2.06-.94 2.06-2.06.94zm-11 1L8.5 8.5l.94-2.06 2.06-.94-2.06-.94L8.5 2.5l-.94 2.06-2.06.94zm10 10l.94 2.06.94-2.06 2.06-.94-2.06-.94-.94-2.06-.94 2.06-2.06.94z\"/><path d=\"M17.41 7.96l-1.37-1.37c-.4-.4-.92-.59-1.43-.59-.52 0-1.04.2-1.43.59L10.3 9.45l-7.72 7.72c-.78.78-.78 2.05 0 2.83L4 21.41c.39.39.9.59 1.41.59.51 0 1.02-.2 1.41-.59l7.78-7.78 2.81-2.81c.8-.78.8-2.07 0-2.86zM5.41 20L4 18.59l7.72-7.72 1.47 1.35L5.41 20z\"/>\n",
              "  </svg>\n",
              "      </button>\n",
              "      \n",
              "  <style>\n",
              "    .colab-df-container {\n",
              "      display:flex;\n",
              "      flex-wrap:wrap;\n",
              "      gap: 12px;\n",
              "    }\n",
              "\n",
              "    .colab-df-convert {\n",
              "      background-color: #E8F0FE;\n",
              "      border: none;\n",
              "      border-radius: 50%;\n",
              "      cursor: pointer;\n",
              "      display: none;\n",
              "      fill: #1967D2;\n",
              "      height: 32px;\n",
              "      padding: 0 0 0 0;\n",
              "      width: 32px;\n",
              "    }\n",
              "\n",
              "    .colab-df-convert:hover {\n",
              "      background-color: #E2EBFA;\n",
              "      box-shadow: 0px 1px 2px rgba(60, 64, 67, 0.3), 0px 1px 3px 1px rgba(60, 64, 67, 0.15);\n",
              "      fill: #174EA6;\n",
              "    }\n",
              "\n",
              "    [theme=dark] .colab-df-convert {\n",
              "      background-color: #3B4455;\n",
              "      fill: #D2E3FC;\n",
              "    }\n",
              "\n",
              "    [theme=dark] .colab-df-convert:hover {\n",
              "      background-color: #434B5C;\n",
              "      box-shadow: 0px 1px 3px 1px rgba(0, 0, 0, 0.15);\n",
              "      filter: drop-shadow(0px 1px 2px rgba(0, 0, 0, 0.3));\n",
              "      fill: #FFFFFF;\n",
              "    }\n",
              "  </style>\n",
              "\n",
              "      <script>\n",
              "        const buttonEl =\n",
              "          document.querySelector('#df-c57f6ce9-2124-4242-8473-83467ab7158a button.colab-df-convert');\n",
              "        buttonEl.style.display =\n",
              "          google.colab.kernel.accessAllowed ? 'block' : 'none';\n",
              "\n",
              "        async function convertToInteractive(key) {\n",
              "          const element = document.querySelector('#df-c57f6ce9-2124-4242-8473-83467ab7158a');\n",
              "          const dataTable =\n",
              "            await google.colab.kernel.invokeFunction('convertToInteractive',\n",
              "                                                     [key], {});\n",
              "          if (!dataTable) return;\n",
              "\n",
              "          const docLinkHtml = 'Like what you see? Visit the ' +\n",
              "            '<a target=\"_blank\" href=https://colab.research.google.com/notebooks/data_table.ipynb>data table notebook</a>'\n",
              "            + ' to learn more about interactive tables.';\n",
              "          element.innerHTML = '';\n",
              "          dataTable['output_type'] = 'display_data';\n",
              "          await google.colab.output.renderOutput(dataTable, element);\n",
              "          const docLink = document.createElement('div');\n",
              "          docLink.innerHTML = docLinkHtml;\n",
              "          element.appendChild(docLink);\n",
              "        }\n",
              "      </script>\n",
              "    </div>\n",
              "  </div>\n",
              "  "
            ]
          },
          "metadata": {},
          "execution_count": 68
        }
      ],
      "source": [
        "train=pd.read_csv(url_train,index_col=0)\n",
        "train.index=pd.to_datetime(train.index)\n",
        "test=pd.read_csv(url_test,index_col=0)\n",
        "test.index=pd.to_datetime(test.index)\n",
        "train.head()"
      ]
    },
    {
      "cell_type": "markdown",
      "id": "bb13298b-3971-458e-bae6-97eb4e958863",
      "metadata": {
        "id": "bb13298b-3971-458e-bae6-97eb4e958863"
      },
      "source": [
        "It is high frequency historical data(0.5 seconds) for a commodity future traded in Shanghai Futures Exchange. AskPrice tis the lowest price that the seller wants to sell and the BidPrice is the highest price the buyer can offer. AskVolume and BidVolume are the number of shares in the markets sellers and buyers offers. Some are not patient, i.e. the seller lowers the price and trades with buyers successfully. Theorefore the Ask/Bid Prices and Ask/Bid Volumes changes over the time. In this project, we will use these four information to forcast the the direction of the market. It is a forecasting project, so do not be surprised if the adjusted R^2 is low. "
      ]
    },
    {
      "cell_type": "markdown",
      "id": "a8427eec",
      "metadata": {
        "id": "a8427eec"
      },
      "source": [
        "## Task 1: Build Features (70%)\n",
        "For both training and test data, build predictors and response"
      ]
    },
    {
      "cell_type": "markdown",
      "source": [
        "#### mid price"
      ],
      "metadata": {
        "id": "ETkuplUl8OH6"
      },
      "id": "ETkuplUl8OH6"
    },
    {
      "cell_type": "markdown",
      "id": "ec0ccd93",
      "metadata": {
        "id": "ec0ccd93"
      },
      "source": [
        "First build mid price\n",
        "$$Mid_t=\\frac{AskPrice_t+BidPrice_t}{2}$$"
      ]
    },
    {
      "cell_type": "code",
      "source": [
        "train['Mid_t'] = (train['AskPrice'] + train['BidPrice']) / 2"
      ],
      "metadata": {
        "id": "jSFco6g9KQuF"
      },
      "id": "jSFco6g9KQuF",
      "execution_count": 69,
      "outputs": []
    },
    {
      "cell_type": "code",
      "source": [
        "test['Mid_t'] = (test['AskPrice'] + test['BidPrice']) / 2"
      ],
      "metadata": {
        "id": "2Or-ihySqSuF"
      },
      "id": "2Or-ihySqSuF",
      "execution_count": 70,
      "outputs": []
    },
    {
      "cell_type": "markdown",
      "source": [
        "#### Y variable"
      ],
      "metadata": {
        "id": "BnuLfJSW8Rgl"
      },
      "id": "BnuLfJSW8Rgl"
    },
    {
      "cell_type": "markdown",
      "id": "3498d26e",
      "metadata": {
        "id": "3498d26e"
      },
      "source": [
        "The frequency of the data is 0.5 second. We want to predict the price change in 5 seconds. Build Y variable \n",
        "$$\n",
        "Y_t=\\frac{Mid_{t+1}+Mid_{t+2}+\\ldots+Mid_{t+10}}{10}-Mid_t\n",
        "$$\n",
        "That is, we calculate the average changes of prices for the next 5 seconds.  "
      ]
    },
    {
      "cell_type": "code",
      "source": [
        "train['Y'] = train['Mid_t'].shift(-10).rolling(10).mean() - train['Mid_t']"
      ],
      "metadata": {
        "id": "dNc4ecw9Lod7"
      },
      "id": "dNc4ecw9Lod7",
      "execution_count": 71,
      "outputs": []
    },
    {
      "cell_type": "code",
      "source": [
        "test['Y'] = test['Mid_t'].shift(-10).rolling(10).mean() - test['Mid_t']"
      ],
      "metadata": {
        "id": "LscPx3wqqYsX"
      },
      "id": "LscPx3wqqYsX",
      "execution_count": 72,
      "outputs": []
    },
    {
      "cell_type": "markdown",
      "id": "0695c4b9",
      "metadata": {
        "id": "0695c4b9"
      },
      "source": [
        "Next we build predictors "
      ]
    },
    {
      "cell_type": "markdown",
      "id": "5f78e8e0",
      "metadata": {
        "id": "5f78e8e0"
      },
      "source": [
        "### Volume Order ImBalance"
      ]
    },
    {
      "cell_type": "markdown",
      "id": "bfbd5a5d",
      "metadata": {
        "id": "bfbd5a5d"
      },
      "source": [
        "First Build \n",
        "$$\n",
        "OI_t=\\delta V_t^B-\\delta V_t^A\n",
        "$$"
      ]
    },
    {
      "cell_type": "markdown",
      "id": "72d8af03",
      "metadata": {
        "id": "72d8af03"
      },
      "source": [
        "where $\\delta V_t^A$ is to the measure the power on the buying side and $\\delta V_t^A$ is to measure the power on the selling side. \n",
        "\n",
        "$$\n",
        "\\delta V_t^B=\\left\\{\\begin{array}{cl}0, & \\mbox { if } P_t^B<P_{t-1}^B\\\\V_t^B-V_{t-1}^B, & \\mbox { if } P_t^B=P_{t-1}^B\\\\V_{t}^B, & \\mbox { if } P_t^B>P_{t-1}^B\\end{array}\\right.\n",
        "$$\n",
        "and \n",
        "$$\n",
        "\\delta V_t^A=\\left\\{\\begin{array}{cl}V_t^A, & \\mbox { if } P_t^A<P_{t-1}^A\\\\V_t^A-V_{t-1}^A, & \\mbox { if } P_t^A=P_{t-1}^A\\\\0, & \\mbox { if } P_t^A>P_{t-1}^A\\end{array}\\right.\n",
        "$$"
      ]
    },
    {
      "cell_type": "markdown",
      "id": "0db2259e",
      "metadata": {
        "id": "0db2259e"
      },
      "source": [
        "where $V_t^A,V_t^B$ are ask and bid volumes, $P_t^A,P_t^B$ are ask and bid prices"
      ]
    },
    {
      "cell_type": "markdown",
      "id": "a1b489ae",
      "metadata": {
        "id": "a1b489ae"
      },
      "source": [
        "Use shift(2),shift(4) ... operators, we  build $OI_{t-2},OI_{t-4},OI_{t-6},OI_{t-8}, OI_{t-10}$, totally 6 predictors including $OI_t$"
      ]
    },
    {
      "cell_type": "markdown",
      "source": [
        "#### $OI_t$"
      ],
      "metadata": {
        "id": "tpKaiJF48con"
      },
      "id": "tpKaiJF48con"
    },
    {
      "cell_type": "markdown",
      "source": [
        "##### Method 1: using **np.where**\n",
        "\n",
        "Using the map function to transform to different scenarios, and then use np.where twice to transform the result. As there may exist that BidVolume equals to 1, thus change to a decimal 0.5 would solve the problem."
      ],
      "metadata": {
        "id": "PzAJpJuy7Evr"
      },
      "id": "PzAJpJuy7Evr"
    },
    {
      "cell_type": "code",
      "source": [
        "train['AskCompare'] = train['AskPrice'].diff().map(lambda x: 0 if (x > 0) else -0.5 if (x == 0) else -2)\n",
        "train['AskCompare'] = train['AskCompare'].where(train['AskCompare'] >= -1, train['AskVolume']).where(train['AskCompare'] != -0.5, train['AskVolume'].diff())\n",
        "train['BidCompare'] = train['BidPrice'].diff().map(lambda x: 2 if (x > 0) else 0.5 if (x == 0) else 0)\n",
        "train['BidCompare'] = train['BidCompare'].where(train['BidCompare'] <= 1, train['BidVolume']).where(train['BidCompare'] != 0.5, train['BidVolume'].diff())\n",
        "train['OI_t'] = train['BidCompare'] - train['AskCompare']\n",
        "train = train.drop(columns=(['AskCompare','BidCompare']))"
      ],
      "metadata": {
        "id": "yLE9J9DglPVM"
      },
      "id": "yLE9J9DglPVM",
      "execution_count": 73,
      "outputs": []
    },
    {
      "cell_type": "code",
      "source": [
        "test['AskCompare'] = test['AskPrice'].diff().map(lambda x: 0 if (x > 0) else -0.5 if (x == 0) else -2)\n",
        "test['AskCompare'] = test['AskCompare'].where(test['AskCompare'] >= -1, test['AskVolume']).where(test['AskCompare'] != -0.5, test['AskVolume'].diff())\n",
        "test['BidCompare'] = test['BidPrice'].diff().map(lambda x: 2 if (x > 0) else 0.5 if (x == 0) else 0)\n",
        "test['BidCompare'] = test['BidCompare'].where(test['BidCompare'] <= 1, test['BidVolume']).where(test['BidCompare'] != 0.5, test['BidVolume'].diff())\n",
        "test['OI_t'] = test['BidCompare'] - test['AskCompare']\n",
        "test = test.drop(columns=(['AskCompare','BidCompare']))"
      ],
      "metadata": {
        "id": "GlJQBqKqIY1T"
      },
      "id": "GlJQBqKqIY1T",
      "execution_count": 74,
      "outputs": []
    },
    {
      "cell_type": "markdown",
      "source": [
        "##### Method 2: define function\n",
        "Time complexity: several minutes"
      ],
      "metadata": {
        "id": "GcapSkQH7RB4"
      },
      "id": "GcapSkQH7RB4"
    },
    {
      "cell_type": "code",
      "source": [
        "# def deltaB(VB,PB):\n",
        "#   delta_B = []\n",
        "#   for i in range(len(VB)):\n",
        "#     if PB[i] < PB.shift(1)[i]:\n",
        "#       delta_B.append(0)\n",
        "#     elif PB[i] == PB.shift(1)[i]:\n",
        "#       delta_B.append(VB[i] - VB.shift(1)[i])\n",
        "#     else:\n",
        "#       delta_B.append(VB[i])\n",
        "#   return delta_B\n",
        "\n",
        "# def deltaA(VA,PA):\n",
        "#   delta_A = []\n",
        "#   for i in range(len(VA)):\n",
        "#     if PA[i] < PA.shift(1)[i]:\n",
        "#       delta_A.append(VA[i])\n",
        "#     elif PA[i] == PA.shift(1)[i]:\n",
        "#       delta_A.append(VA[i] - VA.shift(1)[i])\n",
        "#     else:\n",
        "#       delta_A.append(0)\n",
        "#   return delta_A\n",
        "\n",
        "# delta_A = deltaA(train['AskVolume'],train['AskPrice'])\n",
        "# delta_B = deltaB(train['BidVolume'],train['BidPrice'])\n",
        "# delta_A_test = deltaA(test['AskVolume'],test['AskPrice'])\n",
        "# delta_B_test = deltaB(test['BidVolume'],test['BidPrice'])\n",
        "# train['OI_t'] = np.array(delta_B) - np.array(delta_A)\n",
        "# test['OI_t'] = np.array(delta_B_test) - np.array(delta_A_test)"
      ],
      "metadata": {
        "id": "o7eydZV9RlxW"
      },
      "id": "o7eydZV9RlxW",
      "execution_count": 75,
      "outputs": []
    },
    {
      "cell_type": "markdown",
      "source": [
        "##### Method 3: matrix calculation"
      ],
      "metadata": {
        "id": "HNkvuKhl7wlJ"
      },
      "id": "HNkvuKhl7wlJ"
    },
    {
      "cell_type": "markdown",
      "source": [
        "\\begin{equation}\n",
        "  \\delta V_t^B=\n",
        "  \\begin{bmatrix}\n",
        "        I_{P_t^B<P_{t-1}^B} \n",
        "        & I_{P_t^B=P_{t-1}^B} &\n",
        "        I_{P_t^B>P_{t-1}^B}\n",
        "    \\end{bmatrix}\n",
        "    \\begin{bmatrix}\n",
        "        0 \\\\\n",
        "        V_t^B-V_{t-1}^B \\\\\n",
        "        V_t^B \\\\\n",
        "    \\end{bmatrix}\n",
        "\\end{equation}\n",
        "then take the diagonal elements"
      ],
      "metadata": {
        "id": "wtIy9ovbRpAc"
      },
      "id": "wtIy9ovbRpAc"
    },
    {
      "cell_type": "markdown",
      "source": [
        "#### $OI_{t-2},OI_{t-4},OI_{t-6},OI_{t-8}, OI_{t-10}$"
      ],
      "metadata": {
        "id": "SAtpHmc58j3T"
      },
      "id": "SAtpHmc58j3T"
    },
    {
      "cell_type": "code",
      "source": [
        "train['OI_t_2'] = train['OI_t'].shift(2)\n",
        "train['OI_t_4'] = train['OI_t'].shift(4)\n",
        "train['OI_t_6'] = train['OI_t'].shift(6)\n",
        "train['OI_t_8'] = train['OI_t'].shift(8)\n",
        "train['OI_t_10'] = train['OI_t'].shift(10)"
      ],
      "metadata": {
        "id": "EpBtrcBXnUVz"
      },
      "id": "EpBtrcBXnUVz",
      "execution_count": 76,
      "outputs": []
    },
    {
      "cell_type": "code",
      "source": [
        "test['OI_t_2'] = test['OI_t'].shift(2)\n",
        "test['OI_t_4'] = test['OI_t'].shift(4)\n",
        "test['OI_t_6'] = test['OI_t'].shift(6)\n",
        "test['OI_t_8'] = test['OI_t'].shift(8)\n",
        "test['OI_t_10'] = test['OI_t'].shift(10)"
      ],
      "metadata": {
        "id": "DpvzDKVArFLw"
      },
      "id": "DpvzDKVArFLw",
      "execution_count": 77,
      "outputs": []
    },
    {
      "cell_type": "code",
      "source": [
        "train = train.dropna()\n",
        "train"
      ],
      "metadata": {
        "colab": {
          "base_uri": "https://localhost:8080/",
          "height": 424
        },
        "id": "PXOBcQ5LnGZG",
        "outputId": "c1278be3-97a8-40e1-8f08-3cb2a9f8286f"
      },
      "id": "PXOBcQ5LnGZG",
      "execution_count": 78,
      "outputs": [
        {
          "output_type": "execute_result",
          "data": {
            "text/plain": [
              "                         AskPrice  BidPrice  AskVolume  BidVolume   Mid_t  \\\n",
              "2020-12-21 09:00:05.500    4422.0    4421.0        4.0      105.0  4421.5   \n",
              "2020-12-21 09:00:06.000    4422.0    4421.0      460.0       29.0  4421.5   \n",
              "2020-12-21 09:00:06.500    4422.0    4421.0      126.0       16.0  4421.5   \n",
              "2020-12-21 09:00:07.000    4421.0    4420.0      861.0      593.0  4420.5   \n",
              "2020-12-21 09:00:08.000    4419.0    4418.0      670.0       57.0  4418.5   \n",
              "...                           ...       ...        ...        ...     ...   \n",
              "2021-01-05 14:59:53.000    4398.0    4397.0      353.0      231.0  4397.5   \n",
              "2021-01-05 14:59:53.500    4398.0    4397.0      375.0      241.0  4397.5   \n",
              "2021-01-05 14:59:54.000    4398.0    4397.0      370.0      370.0  4397.5   \n",
              "2021-01-05 14:59:54.500    4398.0    4397.0      348.0      364.0  4397.5   \n",
              "2021-01-05 14:59:55.000    4398.0    4397.0      342.0      322.0  4397.5   \n",
              "\n",
              "                            Y   OI_t  OI_t_2  OI_t_4  OI_t_6  OI_t_8  OI_t_10  \n",
              "2020-12-21 09:00:05.500 -3.75  187.0   -55.0  -275.0    -1.0    -6.0   -467.0  \n",
              "2020-12-21 09:00:06.000 -4.65 -532.0   -31.0    -9.0   -27.0   -31.0    446.0  \n",
              "2020-12-21 09:00:06.500 -5.45  321.0   187.0   -55.0  -275.0    -1.0     -6.0  \n",
              "2020-12-21 09:00:07.000 -5.00 -861.0  -532.0   -31.0    -9.0   -27.0    -31.0  \n",
              "2020-12-21 09:00:08.000 -3.50 -670.0   321.0   187.0   -55.0  -275.0     -1.0  \n",
              "...                       ...    ...     ...     ...     ...     ...      ...  \n",
              "2021-01-05 14:59:53.000  0.00 -326.0     2.0   -36.0    36.0   -15.0    -35.0  \n",
              "2021-01-05 14:59:53.500  0.00  -12.0   -19.0   180.0    93.0   -16.0    -85.0  \n",
              "2021-01-05 14:59:54.000  0.00  134.0  -326.0     2.0   -36.0    36.0    -15.0  \n",
              "2021-01-05 14:59:54.500  0.00   16.0   -12.0   -19.0   180.0    93.0    -16.0  \n",
              "2021-01-05 14:59:55.000  0.00  -36.0   134.0  -326.0     2.0   -36.0     36.0  \n",
              "\n",
              "[223206 rows x 12 columns]"
            ],
            "text/html": [
              "\n",
              "  <div id=\"df-4b50d12e-db8e-45c5-ba4a-56c1cb5a666f\">\n",
              "    <div class=\"colab-df-container\">\n",
              "      <div>\n",
              "<style scoped>\n",
              "    .dataframe tbody tr th:only-of-type {\n",
              "        vertical-align: middle;\n",
              "    }\n",
              "\n",
              "    .dataframe tbody tr th {\n",
              "        vertical-align: top;\n",
              "    }\n",
              "\n",
              "    .dataframe thead th {\n",
              "        text-align: right;\n",
              "    }\n",
              "</style>\n",
              "<table border=\"1\" class=\"dataframe\">\n",
              "  <thead>\n",
              "    <tr style=\"text-align: right;\">\n",
              "      <th></th>\n",
              "      <th>AskPrice</th>\n",
              "      <th>BidPrice</th>\n",
              "      <th>AskVolume</th>\n",
              "      <th>BidVolume</th>\n",
              "      <th>Mid_t</th>\n",
              "      <th>Y</th>\n",
              "      <th>OI_t</th>\n",
              "      <th>OI_t_2</th>\n",
              "      <th>OI_t_4</th>\n",
              "      <th>OI_t_6</th>\n",
              "      <th>OI_t_8</th>\n",
              "      <th>OI_t_10</th>\n",
              "    </tr>\n",
              "  </thead>\n",
              "  <tbody>\n",
              "    <tr>\n",
              "      <th>2020-12-21 09:00:05.500</th>\n",
              "      <td>4422.0</td>\n",
              "      <td>4421.0</td>\n",
              "      <td>4.0</td>\n",
              "      <td>105.0</td>\n",
              "      <td>4421.5</td>\n",
              "      <td>-3.75</td>\n",
              "      <td>187.0</td>\n",
              "      <td>-55.0</td>\n",
              "      <td>-275.0</td>\n",
              "      <td>-1.0</td>\n",
              "      <td>-6.0</td>\n",
              "      <td>-467.0</td>\n",
              "    </tr>\n",
              "    <tr>\n",
              "      <th>2020-12-21 09:00:06.000</th>\n",
              "      <td>4422.0</td>\n",
              "      <td>4421.0</td>\n",
              "      <td>460.0</td>\n",
              "      <td>29.0</td>\n",
              "      <td>4421.5</td>\n",
              "      <td>-4.65</td>\n",
              "      <td>-532.0</td>\n",
              "      <td>-31.0</td>\n",
              "      <td>-9.0</td>\n",
              "      <td>-27.0</td>\n",
              "      <td>-31.0</td>\n",
              "      <td>446.0</td>\n",
              "    </tr>\n",
              "    <tr>\n",
              "      <th>2020-12-21 09:00:06.500</th>\n",
              "      <td>4422.0</td>\n",
              "      <td>4421.0</td>\n",
              "      <td>126.0</td>\n",
              "      <td>16.0</td>\n",
              "      <td>4421.5</td>\n",
              "      <td>-5.45</td>\n",
              "      <td>321.0</td>\n",
              "      <td>187.0</td>\n",
              "      <td>-55.0</td>\n",
              "      <td>-275.0</td>\n",
              "      <td>-1.0</td>\n",
              "      <td>-6.0</td>\n",
              "    </tr>\n",
              "    <tr>\n",
              "      <th>2020-12-21 09:00:07.000</th>\n",
              "      <td>4421.0</td>\n",
              "      <td>4420.0</td>\n",
              "      <td>861.0</td>\n",
              "      <td>593.0</td>\n",
              "      <td>4420.5</td>\n",
              "      <td>-5.00</td>\n",
              "      <td>-861.0</td>\n",
              "      <td>-532.0</td>\n",
              "      <td>-31.0</td>\n",
              "      <td>-9.0</td>\n",
              "      <td>-27.0</td>\n",
              "      <td>-31.0</td>\n",
              "    </tr>\n",
              "    <tr>\n",
              "      <th>2020-12-21 09:00:08.000</th>\n",
              "      <td>4419.0</td>\n",
              "      <td>4418.0</td>\n",
              "      <td>670.0</td>\n",
              "      <td>57.0</td>\n",
              "      <td>4418.5</td>\n",
              "      <td>-3.50</td>\n",
              "      <td>-670.0</td>\n",
              "      <td>321.0</td>\n",
              "      <td>187.0</td>\n",
              "      <td>-55.0</td>\n",
              "      <td>-275.0</td>\n",
              "      <td>-1.0</td>\n",
              "    </tr>\n",
              "    <tr>\n",
              "      <th>...</th>\n",
              "      <td>...</td>\n",
              "      <td>...</td>\n",
              "      <td>...</td>\n",
              "      <td>...</td>\n",
              "      <td>...</td>\n",
              "      <td>...</td>\n",
              "      <td>...</td>\n",
              "      <td>...</td>\n",
              "      <td>...</td>\n",
              "      <td>...</td>\n",
              "      <td>...</td>\n",
              "      <td>...</td>\n",
              "    </tr>\n",
              "    <tr>\n",
              "      <th>2021-01-05 14:59:53.000</th>\n",
              "      <td>4398.0</td>\n",
              "      <td>4397.0</td>\n",
              "      <td>353.0</td>\n",
              "      <td>231.0</td>\n",
              "      <td>4397.5</td>\n",
              "      <td>0.00</td>\n",
              "      <td>-326.0</td>\n",
              "      <td>2.0</td>\n",
              "      <td>-36.0</td>\n",
              "      <td>36.0</td>\n",
              "      <td>-15.0</td>\n",
              "      <td>-35.0</td>\n",
              "    </tr>\n",
              "    <tr>\n",
              "      <th>2021-01-05 14:59:53.500</th>\n",
              "      <td>4398.0</td>\n",
              "      <td>4397.0</td>\n",
              "      <td>375.0</td>\n",
              "      <td>241.0</td>\n",
              "      <td>4397.5</td>\n",
              "      <td>0.00</td>\n",
              "      <td>-12.0</td>\n",
              "      <td>-19.0</td>\n",
              "      <td>180.0</td>\n",
              "      <td>93.0</td>\n",
              "      <td>-16.0</td>\n",
              "      <td>-85.0</td>\n",
              "    </tr>\n",
              "    <tr>\n",
              "      <th>2021-01-05 14:59:54.000</th>\n",
              "      <td>4398.0</td>\n",
              "      <td>4397.0</td>\n",
              "      <td>370.0</td>\n",
              "      <td>370.0</td>\n",
              "      <td>4397.5</td>\n",
              "      <td>0.00</td>\n",
              "      <td>134.0</td>\n",
              "      <td>-326.0</td>\n",
              "      <td>2.0</td>\n",
              "      <td>-36.0</td>\n",
              "      <td>36.0</td>\n",
              "      <td>-15.0</td>\n",
              "    </tr>\n",
              "    <tr>\n",
              "      <th>2021-01-05 14:59:54.500</th>\n",
              "      <td>4398.0</td>\n",
              "      <td>4397.0</td>\n",
              "      <td>348.0</td>\n",
              "      <td>364.0</td>\n",
              "      <td>4397.5</td>\n",
              "      <td>0.00</td>\n",
              "      <td>16.0</td>\n",
              "      <td>-12.0</td>\n",
              "      <td>-19.0</td>\n",
              "      <td>180.0</td>\n",
              "      <td>93.0</td>\n",
              "      <td>-16.0</td>\n",
              "    </tr>\n",
              "    <tr>\n",
              "      <th>2021-01-05 14:59:55.000</th>\n",
              "      <td>4398.0</td>\n",
              "      <td>4397.0</td>\n",
              "      <td>342.0</td>\n",
              "      <td>322.0</td>\n",
              "      <td>4397.5</td>\n",
              "      <td>0.00</td>\n",
              "      <td>-36.0</td>\n",
              "      <td>134.0</td>\n",
              "      <td>-326.0</td>\n",
              "      <td>2.0</td>\n",
              "      <td>-36.0</td>\n",
              "      <td>36.0</td>\n",
              "    </tr>\n",
              "  </tbody>\n",
              "</table>\n",
              "<p>223206 rows × 12 columns</p>\n",
              "</div>\n",
              "      <button class=\"colab-df-convert\" onclick=\"convertToInteractive('df-4b50d12e-db8e-45c5-ba4a-56c1cb5a666f')\"\n",
              "              title=\"Convert this dataframe to an interactive table.\"\n",
              "              style=\"display:none;\">\n",
              "        \n",
              "  <svg xmlns=\"http://www.w3.org/2000/svg\" height=\"24px\"viewBox=\"0 0 24 24\"\n",
              "       width=\"24px\">\n",
              "    <path d=\"M0 0h24v24H0V0z\" fill=\"none\"/>\n",
              "    <path d=\"M18.56 5.44l.94 2.06.94-2.06 2.06-.94-2.06-.94-.94-2.06-.94 2.06-2.06.94zm-11 1L8.5 8.5l.94-2.06 2.06-.94-2.06-.94L8.5 2.5l-.94 2.06-2.06.94zm10 10l.94 2.06.94-2.06 2.06-.94-2.06-.94-.94-2.06-.94 2.06-2.06.94z\"/><path d=\"M17.41 7.96l-1.37-1.37c-.4-.4-.92-.59-1.43-.59-.52 0-1.04.2-1.43.59L10.3 9.45l-7.72 7.72c-.78.78-.78 2.05 0 2.83L4 21.41c.39.39.9.59 1.41.59.51 0 1.02-.2 1.41-.59l7.78-7.78 2.81-2.81c.8-.78.8-2.07 0-2.86zM5.41 20L4 18.59l7.72-7.72 1.47 1.35L5.41 20z\"/>\n",
              "  </svg>\n",
              "      </button>\n",
              "      \n",
              "  <style>\n",
              "    .colab-df-container {\n",
              "      display:flex;\n",
              "      flex-wrap:wrap;\n",
              "      gap: 12px;\n",
              "    }\n",
              "\n",
              "    .colab-df-convert {\n",
              "      background-color: #E8F0FE;\n",
              "      border: none;\n",
              "      border-radius: 50%;\n",
              "      cursor: pointer;\n",
              "      display: none;\n",
              "      fill: #1967D2;\n",
              "      height: 32px;\n",
              "      padding: 0 0 0 0;\n",
              "      width: 32px;\n",
              "    }\n",
              "\n",
              "    .colab-df-convert:hover {\n",
              "      background-color: #E2EBFA;\n",
              "      box-shadow: 0px 1px 2px rgba(60, 64, 67, 0.3), 0px 1px 3px 1px rgba(60, 64, 67, 0.15);\n",
              "      fill: #174EA6;\n",
              "    }\n",
              "\n",
              "    [theme=dark] .colab-df-convert {\n",
              "      background-color: #3B4455;\n",
              "      fill: #D2E3FC;\n",
              "    }\n",
              "\n",
              "    [theme=dark] .colab-df-convert:hover {\n",
              "      background-color: #434B5C;\n",
              "      box-shadow: 0px 1px 3px 1px rgba(0, 0, 0, 0.15);\n",
              "      filter: drop-shadow(0px 1px 2px rgba(0, 0, 0, 0.3));\n",
              "      fill: #FFFFFF;\n",
              "    }\n",
              "  </style>\n",
              "\n",
              "      <script>\n",
              "        const buttonEl =\n",
              "          document.querySelector('#df-4b50d12e-db8e-45c5-ba4a-56c1cb5a666f button.colab-df-convert');\n",
              "        buttonEl.style.display =\n",
              "          google.colab.kernel.accessAllowed ? 'block' : 'none';\n",
              "\n",
              "        async function convertToInteractive(key) {\n",
              "          const element = document.querySelector('#df-4b50d12e-db8e-45c5-ba4a-56c1cb5a666f');\n",
              "          const dataTable =\n",
              "            await google.colab.kernel.invokeFunction('convertToInteractive',\n",
              "                                                     [key], {});\n",
              "          if (!dataTable) return;\n",
              "\n",
              "          const docLinkHtml = 'Like what you see? Visit the ' +\n",
              "            '<a target=\"_blank\" href=https://colab.research.google.com/notebooks/data_table.ipynb>data table notebook</a>'\n",
              "            + ' to learn more about interactive tables.';\n",
              "          element.innerHTML = '';\n",
              "          dataTable['output_type'] = 'display_data';\n",
              "          await google.colab.output.renderOutput(dataTable, element);\n",
              "          const docLink = document.createElement('div');\n",
              "          docLink.innerHTML = docLinkHtml;\n",
              "          element.appendChild(docLink);\n",
              "        }\n",
              "      </script>\n",
              "    </div>\n",
              "  </div>\n",
              "  "
            ]
          },
          "metadata": {},
          "execution_count": 78
        }
      ]
    },
    {
      "cell_type": "code",
      "source": [
        "test = test.dropna()\n",
        "test"
      ],
      "metadata": {
        "colab": {
          "base_uri": "https://localhost:8080/",
          "height": 424
        },
        "id": "GoAWHnqNrN9v",
        "outputId": "49f99379-2f04-406a-d690-067151700d8b"
      },
      "id": "GoAWHnqNrN9v",
      "execution_count": 79,
      "outputs": [
        {
          "output_type": "execute_result",
          "data": {
            "text/plain": [
              "                         AskPrice  BidPrice  AskVolume  BidVolume   Mid_t  \\\n",
              "2021-01-05 21:00:05.500    4406.0    4405.0       66.0       53.0  4405.5   \n",
              "2021-01-05 21:00:06.000    4407.0    4405.0      110.0      129.0  4406.0   \n",
              "2021-01-05 21:00:06.500    4407.0    4406.0       16.0       97.0  4406.5   \n",
              "2021-01-05 21:00:07.000    4409.0    4407.0      117.0       27.0  4408.0   \n",
              "2021-01-05 21:00:07.500    4408.0    4406.0       51.0      179.0  4407.0   \n",
              "...                           ...       ...        ...        ...     ...   \n",
              "2021-01-08 14:59:53.000    4487.0    4485.0       84.0      140.0  4486.0   \n",
              "2021-01-08 14:59:53.500    4487.0    4486.0       75.0       79.0  4486.5   \n",
              "2021-01-08 14:59:54.000    4488.0    4486.0      205.0        1.0  4487.0   \n",
              "2021-01-08 14:59:54.500    4488.0    4487.0      198.0       54.0  4487.5   \n",
              "2021-01-08 14:59:55.000    4488.0    4487.0      193.0       36.0  4487.5   \n",
              "\n",
              "                            Y   OI_t  OI_t_2  OI_t_4  OI_t_6  OI_t_8  OI_t_10  \n",
              "2021-01-05 21:00:05.500  1.75   53.0    -1.0   156.0    -1.0   103.0    -12.0  \n",
              "2021-01-05 21:00:06.000  1.60   76.0    86.0   184.0   -97.0  -172.0     73.0  \n",
              "2021-01-05 21:00:06.500  1.60  191.0    53.0    -1.0   156.0    -1.0    103.0  \n",
              "2021-01-05 21:00:07.000  0.45   27.0    76.0    86.0   184.0   -97.0   -172.0  \n",
              "2021-01-05 21:00:07.500  2.00  -51.0   191.0    53.0    -1.0   156.0     -1.0  \n",
              "...                       ...    ...     ...     ...     ...     ...      ...  \n",
              "2021-01-08 14:59:53.000  0.15   17.0    92.0    49.0  -155.0     6.0    -18.0  \n",
              "2021-01-08 14:59:53.500 -0.55   88.0    14.0  -162.0   -15.0   -37.0    122.0  \n",
              "2021-01-08 14:59:54.000 -1.30  -78.0    17.0    92.0    49.0  -155.0      6.0  \n",
              "2021-01-08 14:59:54.500 -1.90   61.0    88.0    14.0  -162.0   -15.0    -37.0  \n",
              "2021-01-08 14:59:55.000 -2.00  -13.0   -78.0    17.0    92.0    49.0   -155.0  \n",
              "\n",
              "[122571 rows x 12 columns]"
            ],
            "text/html": [
              "\n",
              "  <div id=\"df-83f3ed9f-6e82-435f-b29f-5f7496d08d69\">\n",
              "    <div class=\"colab-df-container\">\n",
              "      <div>\n",
              "<style scoped>\n",
              "    .dataframe tbody tr th:only-of-type {\n",
              "        vertical-align: middle;\n",
              "    }\n",
              "\n",
              "    .dataframe tbody tr th {\n",
              "        vertical-align: top;\n",
              "    }\n",
              "\n",
              "    .dataframe thead th {\n",
              "        text-align: right;\n",
              "    }\n",
              "</style>\n",
              "<table border=\"1\" class=\"dataframe\">\n",
              "  <thead>\n",
              "    <tr style=\"text-align: right;\">\n",
              "      <th></th>\n",
              "      <th>AskPrice</th>\n",
              "      <th>BidPrice</th>\n",
              "      <th>AskVolume</th>\n",
              "      <th>BidVolume</th>\n",
              "      <th>Mid_t</th>\n",
              "      <th>Y</th>\n",
              "      <th>OI_t</th>\n",
              "      <th>OI_t_2</th>\n",
              "      <th>OI_t_4</th>\n",
              "      <th>OI_t_6</th>\n",
              "      <th>OI_t_8</th>\n",
              "      <th>OI_t_10</th>\n",
              "    </tr>\n",
              "  </thead>\n",
              "  <tbody>\n",
              "    <tr>\n",
              "      <th>2021-01-05 21:00:05.500</th>\n",
              "      <td>4406.0</td>\n",
              "      <td>4405.0</td>\n",
              "      <td>66.0</td>\n",
              "      <td>53.0</td>\n",
              "      <td>4405.5</td>\n",
              "      <td>1.75</td>\n",
              "      <td>53.0</td>\n",
              "      <td>-1.0</td>\n",
              "      <td>156.0</td>\n",
              "      <td>-1.0</td>\n",
              "      <td>103.0</td>\n",
              "      <td>-12.0</td>\n",
              "    </tr>\n",
              "    <tr>\n",
              "      <th>2021-01-05 21:00:06.000</th>\n",
              "      <td>4407.0</td>\n",
              "      <td>4405.0</td>\n",
              "      <td>110.0</td>\n",
              "      <td>129.0</td>\n",
              "      <td>4406.0</td>\n",
              "      <td>1.60</td>\n",
              "      <td>76.0</td>\n",
              "      <td>86.0</td>\n",
              "      <td>184.0</td>\n",
              "      <td>-97.0</td>\n",
              "      <td>-172.0</td>\n",
              "      <td>73.0</td>\n",
              "    </tr>\n",
              "    <tr>\n",
              "      <th>2021-01-05 21:00:06.500</th>\n",
              "      <td>4407.0</td>\n",
              "      <td>4406.0</td>\n",
              "      <td>16.0</td>\n",
              "      <td>97.0</td>\n",
              "      <td>4406.5</td>\n",
              "      <td>1.60</td>\n",
              "      <td>191.0</td>\n",
              "      <td>53.0</td>\n",
              "      <td>-1.0</td>\n",
              "      <td>156.0</td>\n",
              "      <td>-1.0</td>\n",
              "      <td>103.0</td>\n",
              "    </tr>\n",
              "    <tr>\n",
              "      <th>2021-01-05 21:00:07.000</th>\n",
              "      <td>4409.0</td>\n",
              "      <td>4407.0</td>\n",
              "      <td>117.0</td>\n",
              "      <td>27.0</td>\n",
              "      <td>4408.0</td>\n",
              "      <td>0.45</td>\n",
              "      <td>27.0</td>\n",
              "      <td>76.0</td>\n",
              "      <td>86.0</td>\n",
              "      <td>184.0</td>\n",
              "      <td>-97.0</td>\n",
              "      <td>-172.0</td>\n",
              "    </tr>\n",
              "    <tr>\n",
              "      <th>2021-01-05 21:00:07.500</th>\n",
              "      <td>4408.0</td>\n",
              "      <td>4406.0</td>\n",
              "      <td>51.0</td>\n",
              "      <td>179.0</td>\n",
              "      <td>4407.0</td>\n",
              "      <td>2.00</td>\n",
              "      <td>-51.0</td>\n",
              "      <td>191.0</td>\n",
              "      <td>53.0</td>\n",
              "      <td>-1.0</td>\n",
              "      <td>156.0</td>\n",
              "      <td>-1.0</td>\n",
              "    </tr>\n",
              "    <tr>\n",
              "      <th>...</th>\n",
              "      <td>...</td>\n",
              "      <td>...</td>\n",
              "      <td>...</td>\n",
              "      <td>...</td>\n",
              "      <td>...</td>\n",
              "      <td>...</td>\n",
              "      <td>...</td>\n",
              "      <td>...</td>\n",
              "      <td>...</td>\n",
              "      <td>...</td>\n",
              "      <td>...</td>\n",
              "      <td>...</td>\n",
              "    </tr>\n",
              "    <tr>\n",
              "      <th>2021-01-08 14:59:53.000</th>\n",
              "      <td>4487.0</td>\n",
              "      <td>4485.0</td>\n",
              "      <td>84.0</td>\n",
              "      <td>140.0</td>\n",
              "      <td>4486.0</td>\n",
              "      <td>0.15</td>\n",
              "      <td>17.0</td>\n",
              "      <td>92.0</td>\n",
              "      <td>49.0</td>\n",
              "      <td>-155.0</td>\n",
              "      <td>6.0</td>\n",
              "      <td>-18.0</td>\n",
              "    </tr>\n",
              "    <tr>\n",
              "      <th>2021-01-08 14:59:53.500</th>\n",
              "      <td>4487.0</td>\n",
              "      <td>4486.0</td>\n",
              "      <td>75.0</td>\n",
              "      <td>79.0</td>\n",
              "      <td>4486.5</td>\n",
              "      <td>-0.55</td>\n",
              "      <td>88.0</td>\n",
              "      <td>14.0</td>\n",
              "      <td>-162.0</td>\n",
              "      <td>-15.0</td>\n",
              "      <td>-37.0</td>\n",
              "      <td>122.0</td>\n",
              "    </tr>\n",
              "    <tr>\n",
              "      <th>2021-01-08 14:59:54.000</th>\n",
              "      <td>4488.0</td>\n",
              "      <td>4486.0</td>\n",
              "      <td>205.0</td>\n",
              "      <td>1.0</td>\n",
              "      <td>4487.0</td>\n",
              "      <td>-1.30</td>\n",
              "      <td>-78.0</td>\n",
              "      <td>17.0</td>\n",
              "      <td>92.0</td>\n",
              "      <td>49.0</td>\n",
              "      <td>-155.0</td>\n",
              "      <td>6.0</td>\n",
              "    </tr>\n",
              "    <tr>\n",
              "      <th>2021-01-08 14:59:54.500</th>\n",
              "      <td>4488.0</td>\n",
              "      <td>4487.0</td>\n",
              "      <td>198.0</td>\n",
              "      <td>54.0</td>\n",
              "      <td>4487.5</td>\n",
              "      <td>-1.90</td>\n",
              "      <td>61.0</td>\n",
              "      <td>88.0</td>\n",
              "      <td>14.0</td>\n",
              "      <td>-162.0</td>\n",
              "      <td>-15.0</td>\n",
              "      <td>-37.0</td>\n",
              "    </tr>\n",
              "    <tr>\n",
              "      <th>2021-01-08 14:59:55.000</th>\n",
              "      <td>4488.0</td>\n",
              "      <td>4487.0</td>\n",
              "      <td>193.0</td>\n",
              "      <td>36.0</td>\n",
              "      <td>4487.5</td>\n",
              "      <td>-2.00</td>\n",
              "      <td>-13.0</td>\n",
              "      <td>-78.0</td>\n",
              "      <td>17.0</td>\n",
              "      <td>92.0</td>\n",
              "      <td>49.0</td>\n",
              "      <td>-155.0</td>\n",
              "    </tr>\n",
              "  </tbody>\n",
              "</table>\n",
              "<p>122571 rows × 12 columns</p>\n",
              "</div>\n",
              "      <button class=\"colab-df-convert\" onclick=\"convertToInteractive('df-83f3ed9f-6e82-435f-b29f-5f7496d08d69')\"\n",
              "              title=\"Convert this dataframe to an interactive table.\"\n",
              "              style=\"display:none;\">\n",
              "        \n",
              "  <svg xmlns=\"http://www.w3.org/2000/svg\" height=\"24px\"viewBox=\"0 0 24 24\"\n",
              "       width=\"24px\">\n",
              "    <path d=\"M0 0h24v24H0V0z\" fill=\"none\"/>\n",
              "    <path d=\"M18.56 5.44l.94 2.06.94-2.06 2.06-.94-2.06-.94-.94-2.06-.94 2.06-2.06.94zm-11 1L8.5 8.5l.94-2.06 2.06-.94-2.06-.94L8.5 2.5l-.94 2.06-2.06.94zm10 10l.94 2.06.94-2.06 2.06-.94-2.06-.94-.94-2.06-.94 2.06-2.06.94z\"/><path d=\"M17.41 7.96l-1.37-1.37c-.4-.4-.92-.59-1.43-.59-.52 0-1.04.2-1.43.59L10.3 9.45l-7.72 7.72c-.78.78-.78 2.05 0 2.83L4 21.41c.39.39.9.59 1.41.59.51 0 1.02-.2 1.41-.59l7.78-7.78 2.81-2.81c.8-.78.8-2.07 0-2.86zM5.41 20L4 18.59l7.72-7.72 1.47 1.35L5.41 20z\"/>\n",
              "  </svg>\n",
              "      </button>\n",
              "      \n",
              "  <style>\n",
              "    .colab-df-container {\n",
              "      display:flex;\n",
              "      flex-wrap:wrap;\n",
              "      gap: 12px;\n",
              "    }\n",
              "\n",
              "    .colab-df-convert {\n",
              "      background-color: #E8F0FE;\n",
              "      border: none;\n",
              "      border-radius: 50%;\n",
              "      cursor: pointer;\n",
              "      display: none;\n",
              "      fill: #1967D2;\n",
              "      height: 32px;\n",
              "      padding: 0 0 0 0;\n",
              "      width: 32px;\n",
              "    }\n",
              "\n",
              "    .colab-df-convert:hover {\n",
              "      background-color: #E2EBFA;\n",
              "      box-shadow: 0px 1px 2px rgba(60, 64, 67, 0.3), 0px 1px 3px 1px rgba(60, 64, 67, 0.15);\n",
              "      fill: #174EA6;\n",
              "    }\n",
              "\n",
              "    [theme=dark] .colab-df-convert {\n",
              "      background-color: #3B4455;\n",
              "      fill: #D2E3FC;\n",
              "    }\n",
              "\n",
              "    [theme=dark] .colab-df-convert:hover {\n",
              "      background-color: #434B5C;\n",
              "      box-shadow: 0px 1px 3px 1px rgba(0, 0, 0, 0.15);\n",
              "      filter: drop-shadow(0px 1px 2px rgba(0, 0, 0, 0.3));\n",
              "      fill: #FFFFFF;\n",
              "    }\n",
              "  </style>\n",
              "\n",
              "      <script>\n",
              "        const buttonEl =\n",
              "          document.querySelector('#df-83f3ed9f-6e82-435f-b29f-5f7496d08d69 button.colab-df-convert');\n",
              "        buttonEl.style.display =\n",
              "          google.colab.kernel.accessAllowed ? 'block' : 'none';\n",
              "\n",
              "        async function convertToInteractive(key) {\n",
              "          const element = document.querySelector('#df-83f3ed9f-6e82-435f-b29f-5f7496d08d69');\n",
              "          const dataTable =\n",
              "            await google.colab.kernel.invokeFunction('convertToInteractive',\n",
              "                                                     [key], {});\n",
              "          if (!dataTable) return;\n",
              "\n",
              "          const docLinkHtml = 'Like what you see? Visit the ' +\n",
              "            '<a target=\"_blank\" href=https://colab.research.google.com/notebooks/data_table.ipynb>data table notebook</a>'\n",
              "            + ' to learn more about interactive tables.';\n",
              "          element.innerHTML = '';\n",
              "          dataTable['output_type'] = 'display_data';\n",
              "          await google.colab.output.renderOutput(dataTable, element);\n",
              "          const docLink = document.createElement('div');\n",
              "          docLink.innerHTML = docLinkHtml;\n",
              "          element.appendChild(docLink);\n",
              "        }\n",
              "      </script>\n",
              "    </div>\n",
              "  </div>\n",
              "  "
            ]
          },
          "metadata": {},
          "execution_count": 79
        }
      ]
    },
    {
      "cell_type": "markdown",
      "id": "7b292e66",
      "metadata": {
        "id": "7b292e66"
      },
      "source": [
        "## Task 2: Make Multiple Linear Regression (30%)"
      ]
    },
    {
      "cell_type": "markdown",
      "id": "8851d1e4",
      "metadata": {
        "id": "8851d1e4"
      },
      "source": [
        "Build multiple linear regression to predict $Y_t$ with $[OI_t, OI_{t-2},OI_{t-4},OI_{t-6},OI_{t-8}, OI_{t-10}]$ in training data. "
      ]
    },
    {
      "cell_type": "markdown",
      "id": "91fe299e",
      "metadata": {
        "id": "91fe299e"
      },
      "source": [
        "Please evaluate the performance of your modesl with statistical measure (MSE and adjusted Rsquare).  You should not feel surprised if the adjusted Rsquare is very low. \n"
      ]
    },
    {
      "cell_type": "code",
      "source": [
        "model = smf.ols(formula='Y~OI_t+OI_t_2+OI_t_4+OI_t_6+OI_t_8+OI_t_10', data=train)\n",
        "reg = model.fit()\n",
        "print(reg.summary())"
      ],
      "metadata": {
        "id": "sM18i5e5S1Us",
        "colab": {
          "base_uri": "https://localhost:8080/"
        },
        "outputId": "7b54c61d-d780-4a99-f86f-2b4d0aae377f"
      },
      "id": "sM18i5e5S1Us",
      "execution_count": 80,
      "outputs": [
        {
          "output_type": "stream",
          "name": "stdout",
          "text": [
            "                            OLS Regression Results                            \n",
            "==============================================================================\n",
            "Dep. Variable:                      Y   R-squared:                       0.015\n",
            "Model:                            OLS   Adj. R-squared:                  0.015\n",
            "Method:                 Least Squares   F-statistic:                     579.2\n",
            "Date:                Thu, 15 Dec 2022   Prob (F-statistic):               0.00\n",
            "Time:                        11:43:22   Log-Likelihood:            -3.1553e+05\n",
            "No. Observations:              223206   AIC:                         6.311e+05\n",
            "Df Residuals:                  223199   BIC:                         6.312e+05\n",
            "Df Model:                           6                                         \n",
            "Covariance Type:            nonrobust                                         \n",
            "==============================================================================\n",
            "                 coef    std err          t      P>|t|      [0.025      0.975]\n",
            "------------------------------------------------------------------------------\n",
            "Intercept     -0.0008      0.002     -0.380      0.704      -0.005       0.003\n",
            "OI_t           0.0010   1.64e-05     58.561      0.000       0.001       0.001\n",
            "OI_t_2        -0.0002   1.65e-05    -12.138      0.000      -0.000      -0.000\n",
            "OI_t_4     -7.704e-05   1.65e-05     -4.661      0.000      -0.000   -4.46e-05\n",
            "OI_t_6     -2.951e-06   1.65e-05     -0.179      0.858   -3.53e-05    2.94e-05\n",
            "OI_t_8     -2.088e-06   1.65e-05     -0.126      0.899   -3.45e-05    3.03e-05\n",
            "OI_t_10     3.025e-05   1.64e-05      1.849      0.064   -1.82e-06    6.23e-05\n",
            "==============================================================================\n",
            "Omnibus:                   510178.923   Durbin-Watson:                   0.383\n",
            "Prob(Omnibus):                  0.000   Jarque-Bera (JB):      32182822889.094\n",
            "Skew:                          21.169   Prob(JB):                         0.00\n",
            "Kurtosis:                    1862.740   Cond. No.                         149.\n",
            "==============================================================================\n",
            "\n",
            "Notes:\n",
            "[1] Standard Errors assume that the covariance matrix of the errors is correctly specified.\n"
          ]
        }
      ]
    },
    {
      "cell_type": "markdown",
      "source": [
        "It shows that the lag longer than 5 days may have little impact of the model."
      ],
      "metadata": {
        "id": "SBvOk9C6XAWu"
      },
      "id": "SBvOk9C6XAWu"
    },
    {
      "cell_type": "markdown",
      "source": [
        "From the multiple linear regression results, we can see that the **Adj. R-squared** is 0.015, which means only 1.5% of the variance in the average changes of prices for the next 5 seconds is explained by the $OI_{t}$. But this result is reasonable as the market price is unpredictable, so only a little prediction power may help in the real market."
      ],
      "metadata": {
        "id": "9VrrzXvEVXRd"
      },
      "id": "9VrrzXvEVXRd"
    },
    {
      "cell_type": "code",
      "source": [
        "predict = reg.predict(sm.add_constant(test[['OI_t','OI_t_2','OI_t_4','OI_t_6','OI_t_8','OI_t_10']]))\n",
        "predict"
      ],
      "metadata": {
        "colab": {
          "base_uri": "https://localhost:8080/"
        },
        "id": "BYeuwgutuJNh",
        "outputId": "885bf22d-2740-4c64-cfac-d7e5da41ebc2"
      },
      "id": "BYeuwgutuJNh",
      "execution_count": 81,
      "outputs": [
        {
          "output_type": "execute_result",
          "data": {
            "text/plain": [
              "2021-01-05 21:00:05.500    0.037587\n",
              "2021-01-05 21:00:06.000    0.043439\n",
              "2021-01-05 21:00:06.500    0.174295\n",
              "2021-01-05 21:00:07.000   -0.002348\n",
              "2021-01-05 21:00:07.500   -0.092421\n",
              "                             ...   \n",
              "2021-01-08 14:59:53.000   -0.006846\n",
              "2021-01-08 14:59:53.500    0.096995\n",
              "2021-01-08 14:59:54.000   -0.085668\n",
              "2021-01-08 14:59:54.500    0.038299\n",
              "2021-01-08 14:59:55.000   -0.003977\n",
              "Length: 122571, dtype: float64"
            ]
          },
          "metadata": {},
          "execution_count": 81
        }
      ]
    },
    {
      "cell_type": "code",
      "source": [
        "mse = ((test['Y'] - predict) ** 2).sum() / (len(test) - 6 - 1)\n",
        "mse"
      ],
      "metadata": {
        "colab": {
          "base_uri": "https://localhost:8080/"
        },
        "id": "pdQl8x06jkpo",
        "outputId": "a787bfe8-741c-4f54-ce0a-25dd8ad76af3"
      },
      "id": "pdQl8x06jkpo",
      "execution_count": 82,
      "outputs": [
        {
          "output_type": "execute_result",
          "data": {
            "text/plain": [
              "0.4029779644080539"
            ]
          },
          "metadata": {},
          "execution_count": 82
        }
      ]
    },
    {
      "cell_type": "markdown",
      "source": [
        "The MSE of the model is 0.403."
      ],
      "metadata": {
        "id": "4gHroFVTWh4P"
      },
      "id": "4gHroFVTWh4P"
    },
    {
      "cell_type": "markdown",
      "source": [
        "## Reference "
      ],
      "metadata": {
        "id": "OalZrEvGS_Jk"
      },
      "id": "OalZrEvGS_Jk"
    },
    {
      "cell_type": "markdown",
      "source": [
        "1. [Paper about Order Imbalance](https://drive.google.com/file/d/1z5t2u1jKDtZjLBa_BZIDBY0DsRRhXQ-S/view?usp=sharing)"
      ],
      "metadata": {
        "id": "8fSvFT9mTFTx"
      },
      "id": "8fSvFT9mTFTx"
    }
  ],
  "metadata": {
    "kernelspec": {
      "display_name": "Python 3",
      "language": "python",
      "name": "python3"
    },
    "language_info": {
      "codemirror_mode": {
        "name": "ipython",
        "version": 3
      },
      "file_extension": ".py",
      "mimetype": "text/x-python",
      "name": "python",
      "nbconvert_exporter": "python",
      "pygments_lexer": "ipython3",
      "version": "3.8.3"
    },
    "nteract": {
      "version": "0.28.0"
    },
    "colab": {
      "provenance": [],
      "toc_visible": true
    }
  },
  "nbformat": 4,
  "nbformat_minor": 5
}